{
 "cells": [
  {
   "cell_type": "code",
   "execution_count": 2,
   "metadata": {},
   "outputs": [
    {
     "name": "stdout",
     "output_type": "stream",
     "text": [
      "請輸入網域或IP : 150.116.255.53\n",
      "IP地址 :  150.116.255.53\n",
      "洲名   :  Asia\n",
      "國名   :  Taiwan\n",
      "城市名 :  Taipei\n",
      "緯度   :  25.042139053344727\n",
      "經度   :  121.51986694335938\n"
     ]
    }
   ],
   "source": [
    "import requests\n",
    "\n",
    "url_head = 'http://api.ipstack.com/'\n",
    "url_tail = '?access_key=848d68eb7276c6b4cd494924e9bf9bf4'\n",
    "getip = input('請輸入網域或IP : ')\n",
    "url = url_head + getip + url_tail\n",
    "urlfile = requests.get(url.strip())\n",
    "ip_info = urlfile.json()\n",
    "\n",
    "print('IP地址 : ', ip_info['ip'])\n",
    "print('洲名   : ', ip_info['continent_name'])\n",
    "print('國名   : ', ip_info['country_name'])\n",
    "print('城市名 : ', ip_info['city'])\n",
    "print('緯度   : ', ip_info['latitude'])\n",
    "print('經度   : ', ip_info['longitude'])"
   ]
  },
  {
   "cell_type": "code",
   "execution_count": 3,
   "metadata": {},
   "outputs": [
    {
     "name": "stdout",
     "output_type": "stream",
     "text": [
      "目前連線網址 :  https://www.ptt.cc/bbs/Gossiping/M.1598277202.A.3DA.html\n",
      "目前文章標題 :  [問卦] 認真問 月薪3萬3可以結婚生小孩嗎？\n",
      "文章來源 :\n",
      "※ 發信站: 批踢踢實業坊(ptt.cc), 來自: 118.161.56.253 (臺灣)\n",
      "\n",
      "IP地址 :  118.161.56.253\n",
      "IP城市 :  Taoyuan City\n"
     ]
    }
   ],
   "source": [
    "import requests, bs4, re\n",
    "\n",
    "def get_ip(ipstr):\n",
    "    ''' 由字串回傳IP地址 '''\n",
    "    pattern = r'\\d+.\\d+.\\d+.\\d+'\n",
    "    addr = re.search(pattern, ipstr)\n",
    "    return addr\n",
    "\n",
    "def get_city(ptturl):\n",
    "    ''' 由IP地址回傳城市名稱 '''\n",
    "    url_head = 'http://api.ipstack.com/'\n",
    "    url_tail = '?access_key=848d68eb7276c6b4cd494924e9bf9bf4'\n",
    "    url = url_head + ptturl + url_tail\n",
    "    urlfile = requests.get(url.strip())\n",
    "    ip_info = urlfile.json()\n",
    "    return ip_info['city']\n",
    "\n",
    "url_ptt = 'https://www.ptt.cc'\n",
    "gossiping = '/bbs/gossiping/index.html'\n",
    "\n",
    "ptthtml = requests.get(url_ptt+gossiping, cookies={'over18':'1'})\n",
    "objSoup = bs4.BeautifulSoup(ptthtml.text, 'lxml')\n",
    "\n",
    "pttdivs = objSoup.find_all('div', 'r-ent')\n",
    "href = pttdivs[0].find('a')['href']                                 # 文章超連結\n",
    "title = pttdivs[0].find('a').text\n",
    "\n",
    "print('目前連線網址 : ', url_ptt+href)\n",
    "print('目前文章標題 : ', title)\n",
    "gossiping_html = requests.get(url_ptt+href, cookies={'over18':'1'}) # 進入超連結\n",
    "gossiping_soup = bs4.BeautifulSoup(gossiping_html.text, 'lxml')   \n",
    "\n",
    "gossiping_span = gossiping_soup.find('span', 'f2')                  # 爬取文章來源\n",
    "if gossiping_span:\n",
    "    print('文章來源 :')\n",
    "    print(gossiping_span.text)\n",
    "    ip_addr = get_ip(gossiping_span.text)\n",
    "    print('IP地址 : ', ip_addr.group())\n",
    "    ip_city = get_city(ip_addr.group())\n",
    "    print('IP城市 : ', ip_city)\n",
    "else:\n",
    "    print('可能是廣告信件沒有發文IP')\n"
   ]
  },
  {
   "cell_type": "code",
   "execution_count": null,
   "metadata": {},
   "outputs": [],
   "source": []
  }
 ],
 "metadata": {
  "kernelspec": {
   "display_name": "Python 3.7.4 64-bit (conda)",
   "language": "python",
   "name": "python37464bitcondaa894bb5b6bb148ddaac80467bce14611"
  },
  "language_info": {
   "codemirror_mode": {
    "name": "ipython",
    "version": 3
   },
   "file_extension": ".py",
   "mimetype": "text/x-python",
   "name": "python",
   "nbconvert_exporter": "python",
   "pygments_lexer": "ipython3",
   "version": "3.7.4"
  }
 },
 "nbformat": 4,
 "nbformat_minor": 2
}
